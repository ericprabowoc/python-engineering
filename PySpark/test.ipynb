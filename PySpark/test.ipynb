{
 "cells": [
  {
   "cell_type": "code",
   "execution_count": 2,
   "metadata": {},
   "outputs": [
    {
     "data": {
      "text/plain": [
       "'3.3.1'"
      ]
     },
     "execution_count": 2,
     "metadata": {},
     "output_type": "execute_result"
    }
   ],
   "source": [
    "import pyspark\n",
    "\n",
    "pyspark.__version__"
   ]
  },
  {
   "cell_type": "code",
   "execution_count": 62,
   "metadata": {},
   "outputs": [],
   "source": [
    "from pyspark.sql import SparkSession\n",
    "\n",
    "spark = SparkSession \\\n",
    "    .builder \\\n",
    "    .appName(\"Python Spark SQL basic example\") \\\n",
    "    .config(\"spark.some.config.option\", \"some-value\") \\\n",
    "    .getOrCreate()"
   ]
  },
  {
   "cell_type": "code",
   "execution_count": 64,
   "metadata": {},
   "outputs": [
    {
     "name": "stdout",
     "output_type": "stream",
     "text": [
      "10 4\n"
     ]
    }
   ],
   "source": [
    "spark_df = spark.read.csv(\n",
    "    path=\"data/random-generator.csv\",\n",
    "    header=True,\n",
    "    quote='\\\"',\n",
    "    escape='\\\"')\n",
    "print(spark_df.count(), len(spark_df.columns))"
   ]
  },
  {
   "cell_type": "code",
   "execution_count": 65,
   "metadata": {},
   "outputs": [
    {
     "data": {
      "text/plain": [
       "[('Name', 'string'),\n",
       " ('Email', 'string'),\n",
       " ('Phone', 'string'),\n",
       " ('Description', 'string')]"
      ]
     },
     "execution_count": 65,
     "metadata": {},
     "output_type": "execute_result"
    }
   ],
   "source": [
    "spark_df.dtypes"
   ]
  },
  {
   "cell_type": "code",
   "execution_count": 66,
   "metadata": {},
   "outputs": [
    {
     "name": "stdout",
     "output_type": "stream",
     "text": [
      "+-----------------------------+----------------------+---------------+-------------------------------------------------------------------------------------------------------------------------------------------------------------------------------------------------+\n",
      "|Name                         |Email                 |Phone          |Description                                                                                                                                                                                      |\n",
      "+-----------------------------+----------------------+---------------+-------------------------------------------------------------------------------------------------------------------------------------------------------------------------------------------------+\n",
      "|\"Miss Beatrice Murazik\\u7684\"|wcole@harber.com      |425-800-0568   |Quod consectetur laboriosam voluptate cupiditate tempore harum autem ut. Ut in sit accusantium facilis ea dolores. Molestias rerum aut neque fuga. In aut voluptates aut qui non quo.            |\n",
      "|\"Gustave Balistreri\"         |uhackett@yahoo.com    |442.438.6043   |Ut deleniti magnam tempore perferendis facere omnis. Ut dolores quae omnis deserunt quia. Eos autem eum est sequi. Laborum est dolores magni maiores. Incidunt animi dolorem illo ad accusantium.|\n",
      "|\"Dr. Dario Bins II\"          |rasheed.stehr@bins.com|+1-323-621-3822|Ut error sint quisquam dolorum. Beatae praesentium eius delectus quia dolores aperiam. Id reiciendis doloremque ab corporis exercitationem. Magnam quisquam aut ut cum.                          |\n",
      "|\"Kellen Hirthe II\"           |ted65@okuneva.com     |1-574-731-0848 |Odit incidunt tenetur earum sed velit explicabo nisi. Quo est tempore nobis sed perferendis quod. Non ea illum tempore optio quia accusantium incidunt. Iure veritatis eveniet id ipsam.         |\n",
      "|\"Ava Weimann IV\"             |leonor12@bauch.org    |+1.570.403.9943|Aut iure est consectetur soluta labore dolores ex. Sunt dignissimos rerum commodi qui. Corporis nisi quam reiciendis officiis numquam. Et distinctio enim id qui reiciendis.                     |\n",
      "+-----------------------------+----------------------+---------------+-------------------------------------------------------------------------------------------------------------------------------------------------------------------------------------------------+\n",
      "only showing top 5 rows\n",
      "\n"
     ]
    }
   ],
   "source": [
    "spark_df.show(5, truncate=False)"
   ]
  },
  {
   "attachments": {},
   "cell_type": "markdown",
   "metadata": {},
   "source": [
    "##### Unicode"
   ]
  },
  {
   "cell_type": "code",
   "execution_count": 67,
   "metadata": {},
   "outputs": [
    {
     "name": "stdout",
     "output_type": "stream",
     "text": [
      "<class 'list'>\n",
      "<class 'dict'>\n",
      "的\n",
      "'的'\n"
     ]
    }
   ],
   "source": [
    "import unicodedata\n",
    "import ast\n",
    "\n",
    "print(type(ast.literal_eval('''['test',1]''')))\n",
    "print(type(ast.literal_eval('''{'test':1}''')))\n",
    "print(unicodedata.normalize('NFC', '\\u7684'))\n",
    "print(repr('\\u7684'))"
   ]
  },
  {
   "attachments": {},
   "cell_type": "markdown",
   "metadata": {},
   "source": [
    "##### Test Dictionary / Struct"
   ]
  },
  {
   "cell_type": "code",
   "execution_count": 68,
   "metadata": {},
   "outputs": [],
   "source": [
    "import pandas as pd\n",
    "\n",
    "pdf = pd.DataFrame({\n",
    "    \"foo\": [1, 2, 3],\n",
    "    \"bar\": [{\"a\": 1, \"b\": 10}, {\"a\": 2, \"b\": 20}, {\"a\": 3, \"b\": 30}]\n",
    "})\n",
    "\n",
    "df = spark.createDataFrame(pdf)\n",
    "df.coalesce(1).write.mode(\"overwrite\").parquet(\"output/test.parquet\")"
   ]
  },
  {
   "cell_type": "code",
   "execution_count": 70,
   "metadata": {},
   "outputs": [
    {
     "name": "stdout",
     "output_type": "stream",
     "text": [
      "3 2\n",
      "root\n",
      " |-- foo: long (nullable = true)\n",
      " |-- bar: map (nullable = true)\n",
      " |    |-- key: string\n",
      " |    |-- value: long (valueContainsNull = true)\n",
      "\n",
      "None\n",
      "+---+-----------------+\n",
      "|foo|bar              |\n",
      "+---+-----------------+\n",
      "|1  |{a -> 1, b -> 10}|\n",
      "|2  |{a -> 2, b -> 20}|\n",
      "|3  |{a -> 3, b -> 30}|\n",
      "+---+-----------------+\n",
      "\n"
     ]
    }
   ],
   "source": [
    "read_df = spark.read.parquet(\"output/test.parquet\")\n",
    "\n",
    "print(read_df.count(), len(read_df.columns))\n",
    "print(read_df.printSchema())\n",
    "read_df.show(5, truncate=False)"
   ]
  }
 ],
 "metadata": {
  "kernelspec": {
   "display_name": "venv",
   "language": "python",
   "name": "python3"
  },
  "language_info": {
   "codemirror_mode": {
    "name": "ipython",
    "version": 3
   },
   "file_extension": ".py",
   "mimetype": "text/x-python",
   "name": "python",
   "nbconvert_exporter": "python",
   "pygments_lexer": "ipython3",
   "version": "3.7.3"
  },
  "orig_nbformat": 4,
  "vscode": {
   "interpreter": {
    "hash": "670cec61e4f3692aefc152a66589482a97497120e6ec7ba5bd571042f4733341"
   }
  }
 },
 "nbformat": 4,
 "nbformat_minor": 2
}
