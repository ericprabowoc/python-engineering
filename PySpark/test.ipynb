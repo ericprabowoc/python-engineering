{
 "cells": [
  {
   "cell_type": "code",
   "execution_count": 3,
   "metadata": {},
   "outputs": [
    {
     "data": {
      "text/plain": [
       "'3.3.1'"
      ]
     },
     "execution_count": 3,
     "metadata": {},
     "output_type": "execute_result"
    }
   ],
   "source": [
    "import pyspark\n",
    "\n",
    "pyspark.__version__"
   ]
  },
  {
   "cell_type": "code",
   "execution_count": 7,
   "metadata": {},
   "outputs": [],
   "source": [
    "from pyspark.sql import SparkSession\n",
    "\n",
    "spark = SparkSession \\\n",
    "    .builder \\\n",
    "    .appName(\"Python Spark SQL basic example\") \\\n",
    "    .config(\"spark.some.config.option\", \"some-value\") \\\n",
    "    .getOrCreate()"
   ]
  },
  {
   "cell_type": "code",
   "execution_count": 28,
   "metadata": {},
   "outputs": [
    {
     "name": "stdout",
     "output_type": "stream",
     "text": [
      "10 4\n"
     ]
    }
   ],
   "source": [
    "spark_df = spark.read.csv(\n",
    "    path=\"random-generator.csv\",\n",
    "    header=True,\n",
    "    encoding='ISO-8859-1',\n",
    "    quote='\\\"',\n",
    "    escape='\\\"')\n",
    "print(spark_df.count(), len(spark_df.columns))"
   ]
  },
  {
   "cell_type": "code",
   "execution_count": 41,
   "metadata": {},
   "outputs": [
    {
     "name": "stdout",
     "output_type": "stream",
     "text": [
      "<class 'list'>\n",
      "<class 'dict'>\n",
      "<class 'list'>\n",
      "的\n",
      "'的'\n"
     ]
    }
   ],
   "source": [
    "import unicodedata\n",
    "import ast\n",
    "\n",
    "print(type(ast.literal_eval('''['test',1]''')))\n",
    "print(type(ast.literal_eval('''{'test':1}''')))\n",
    "print(unicodedata.normalize('NFC', '\\u7684'))\n",
    "print(repr('\\u7684'))"
   ]
  },
  {
   "cell_type": "code",
   "execution_count": 29,
   "metadata": {},
   "outputs": [
    {
     "name": "stdout",
     "output_type": "stream",
     "text": [
      "+-----------------------------+-------------------------------+-----------------+-----------------------------------------------------------------------------------------------------------------------------------------------------------------------------------------------------+\n",
      "|Name                         |Email                          |Phone            |Description                                                                                                                                                                                          |\n",
      "+-----------------------------+-------------------------------+-----------------+-----------------------------------------------------------------------------------------------------------------------------------------------------------------------------------------------------+\n",
      "|\"Miss Beatrice Murazik\\u7684\"|wcole@harber.com               |425-800-0568     |Quod consectetur laboriosam voluptate cupiditate tempore harum autem ut. Ut in sit accusantium facilis ea dolores. Molestias rerum aut neque fuga. In aut voluptates aut qui non quo.                |\n",
      "|\"Gustave Balistreri\"         |uhackett@yahoo.com             |442.438.6043     |Ut deleniti magnam tempore perferendis facere omnis. Ut dolores quae omnis deserunt quia. Eos autem eum est sequi. Laborum est dolores magni maiores. Incidunt animi dolorem illo ad accusantium.    |\n",
      "|\"Dr. Dario Bins II\"          |rasheed.stehr@bins.com         |+1-323-621-3822  |Ut error sint quisquam dolorum. Beatae praesentium eius delectus quia dolores aperiam. Id reiciendis doloremque ab corporis exercitationem. Magnam quisquam aut ut cum.                              |\n",
      "|\"Kellen Hirthe II\"           |ted65@okuneva.com              |1-574-731-0848   |Odit incidunt tenetur earum sed velit explicabo nisi. Quo est tempore nobis sed perferendis quod. Non ea illum tempore optio quia accusantium incidunt. Iure veritatis eveniet id ipsam.             |\n",
      "|\"Ava Weimann IV\"             |leonor12@bauch.org             |+1.570.403.9943  |Aut iure est consectetur soluta labore dolores ex. Sunt dignissimos rerum commodi qui. Corporis nisi quam reiciendis officiis numquam. Et distinctio enim id qui reiciendis.                         |\n",
      "|\"Loyal Weimann\"              |maude.mayer@heaney.biz         |+1-631-535-7612  |Quia sit atque quisquam voluptatem et. Laudantium at aliquam et minima nisi laudantium excepturi. Non iusto architecto eum dignissimos. Quia non eos aut quisquam itaque omnis qui. Et atque et quod.|\n",
      "|\"Miss Alison Conroy MD\"      |margarette.hodkiewicz@yahoo.com|+1.575.891.0066  |Sit in provident nihil. In non eius est atque animi molestias tempore. Vel enim totam veniam tempore commodi pariatur. Neque quae tempora non aut.                                                   |\n",
      "|\"Prof. Davion Terry Sr.\"     |xkreiger@feest.com             |+1-267-594-0960  |Odit voluptatibus corrupti voluptatem blanditiis voluptas. Iste dolor veniam qui qui. Sit nobis neque quo. Qui cupiditate nostrum qui non accusamus quod.                                            |\n",
      "|\"Mrs. Aubree Adams Sr.\"      |deja.conroy@gmail.com          |(737) 370-4436   |Dicta quo odit aspernatur excepturi et. Ducimus assumenda odit consectetur. Est eius qui voluptatum inventore molestias est numquam.                                                                 |\n",
      "|\"Noel Dibbert\"               |lind.linda@gmail.com           |+1 (845) 959-7495|Repellendus maiores voluptatum est esse facilis dolorem. Eum molestiae eaque consequatur est et sed. Ut et similique ut autem doloremque.                                                            |\n",
      "+-----------------------------+-------------------------------+-----------------+-----------------------------------------------------------------------------------------------------------------------------------------------------------------------------------------------------+\n",
      "\n"
     ]
    }
   ],
   "source": [
    "spark_df.show(truncate=False)"
   ]
  }
 ],
 "metadata": {
  "kernelspec": {
   "display_name": "venv",
   "language": "python",
   "name": "python3"
  },
  "language_info": {
   "codemirror_mode": {
    "name": "ipython",
    "version": 3
   },
   "file_extension": ".py",
   "mimetype": "text/x-python",
   "name": "python",
   "nbconvert_exporter": "python",
   "pygments_lexer": "ipython3",
   "version": "3.7.3"
  },
  "orig_nbformat": 4,
  "vscode": {
   "interpreter": {
    "hash": "670cec61e4f3692aefc152a66589482a97497120e6ec7ba5bd571042f4733341"
   }
  }
 },
 "nbformat": 4,
 "nbformat_minor": 2
}
