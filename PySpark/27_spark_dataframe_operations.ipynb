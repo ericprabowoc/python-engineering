{
 "cells": [
  {
   "cell_type": "code",
   "execution_count": 1,
   "metadata": {},
   "outputs": [],
   "source": [
    "from pyspark.sql import SparkSession"
   ]
  },
  {
   "cell_type": "code",
   "execution_count": 2,
   "metadata": {},
   "outputs": [
    {
     "name": "stderr",
     "output_type": "stream",
     "text": [
      "Setting default log level to \"WARN\".\n",
      "To adjust logging level use sc.setLogLevel(newLevel). For SparkR, use setLogLevel(newLevel).\n"
     ]
    },
    {
     "name": "stdout",
     "output_type": "stream",
     "text": [
      "23/02/18 18:26:07 WARN NativeCodeLoader: Unable to load native-hadoop library for your platform... using builtin-java classes where applicable\n",
      "23/02/18 18:26:08 WARN Utils: Service 'SparkUI' could not bind on port 4040. Attempting port 4041.\n"
     ]
    }
   ],
   "source": [
    "spark = SparkSession.builder.appName('ops').getOrCreate()"
   ]
  },
  {
   "cell_type": "code",
   "execution_count": 4,
   "metadata": {},
   "outputs": [
    {
     "name": "stdout",
     "output_type": "stream",
     "text": [
      "184 7\n"
     ]
    }
   ],
   "source": [
    "df = spark.read.csv('data/aapl.csv', inferSchema=True, header=True)\n",
    "print(df.count(), len(df.columns))"
   ]
  },
  {
   "cell_type": "code",
   "execution_count": 6,
   "metadata": {},
   "outputs": [
    {
     "name": "stdout",
     "output_type": "stream",
     "text": [
      "root\n",
      " |-- Date: timestamp (nullable = true)\n",
      " |-- Open: double (nullable = true)\n",
      " |-- High: double (nullable = true)\n",
      " |-- Low: double (nullable = true)\n",
      " |-- Close: double (nullable = true)\n",
      " |-- Adj Close: double (nullable = true)\n",
      " |-- Volume: integer (nullable = true)\n",
      "\n"
     ]
    }
   ],
   "source": [
    "df.printSchema()"
   ]
  },
  {
   "cell_type": "code",
   "execution_count": 10,
   "metadata": {},
   "outputs": [
    {
     "name": "stdout",
     "output_type": "stream",
     "text": [
      "+-------------------+----------+----------+----------+----------+----------+---------+\n",
      "|Date               |Open      |High      |Low       |Close     |Adj Close |Volume   |\n",
      "+-------------------+----------+----------+----------+----------+----------+---------+\n",
      "|2014-09-29 00:00:00|100.589996|100.690002|98.040001 |99.620003 |93.51429  |142718700|\n",
      "|2014-10-06 00:00:00|99.949997 |102.379997|98.309998 |100.730003|94.556244 |280258200|\n",
      "|2014-10-13 00:00:00|101.330002|101.779999|95.18     |97.669998 |91.683792 |358539800|\n",
      "|2014-10-20 00:00:00|98.32     |105.489998|98.220001 |105.220001|98.771042 |358532900|\n",
      "|2014-10-27 00:00:00|104.849998|108.040001|104.699997|108.0     |101.380676|220230600|\n",
      "+-------------------+----------+----------+----------+----------+----------+---------+\n",
      "only showing top 5 rows\n",
      "\n"
     ]
    }
   ],
   "source": [
    "df.show(5, truncate=False)"
   ]
  },
  {
   "cell_type": "code",
   "execution_count": 11,
   "metadata": {},
   "outputs": [
    {
     "data": {
      "text/plain": [
       "[Row(Date=datetime.datetime(2014, 9, 29, 0, 0), Open=100.589996, High=100.690002, Low=98.040001, Close=99.620003, Adj Close=93.51429, Volume=142718700),\n",
       " Row(Date=datetime.datetime(2014, 10, 6, 0, 0), Open=99.949997, High=102.379997, Low=98.309998, Close=100.730003, Adj Close=94.556244, Volume=280258200),\n",
       " Row(Date=datetime.datetime(2014, 10, 13, 0, 0), Open=101.330002, High=101.779999, Low=95.18, Close=97.669998, Adj Close=91.683792, Volume=358539800)]"
      ]
     },
     "execution_count": 11,
     "metadata": {},
     "output_type": "execute_result"
    }
   ],
   "source": [
    "df.head(3)"
   ]
  },
  {
   "cell_type": "code",
   "execution_count": 26,
   "metadata": {},
   "outputs": [
    {
     "name": "stdout",
     "output_type": "stream",
     "text": [
      "+----------+---------+\n",
      "|      Open|    Close|\n",
      "+----------+---------+\n",
      "|100.589996|99.620003|\n",
      "|101.330002|97.669998|\n",
      "|102.610001|96.959999|\n",
      "| 98.970001|97.129997|\n",
      "|101.519997|97.339996|\n",
      "+----------+---------+\n",
      "only showing top 5 rows\n",
      "\n"
     ]
    }
   ],
   "source": [
    "df.filter('Close < 100').select(['Open', 'Close']).show(5)"
   ]
  },
  {
   "cell_type": "code",
   "execution_count": 28,
   "metadata": {},
   "outputs": [
    {
     "name": "stdout",
     "output_type": "stream",
     "text": [
      "+----------+---------+\n",
      "|      Open|    Close|\n",
      "+----------+---------+\n",
      "|100.589996|99.620003|\n",
      "|101.330002|97.669998|\n",
      "|102.610001|96.959999|\n",
      "| 98.970001|97.129997|\n",
      "|101.519997|97.339996|\n",
      "+----------+---------+\n",
      "only showing top 5 rows\n",
      "\n"
     ]
    }
   ],
   "source": [
    "df.filter(df['Close'] < 100).select(['Open', 'Close']).show(5)"
   ]
  },
  {
   "cell_type": "code",
   "execution_count": 32,
   "metadata": {},
   "outputs": [
    {
     "name": "stdout",
     "output_type": "stream",
     "text": [
      "+---------+---------+\n",
      "|     Open|    Close|\n",
      "+---------+---------+\n",
      "|98.970001|97.129997|\n",
      "|96.470001|94.019997|\n",
      "|93.129997|93.989998|\n",
      "|95.019997|96.040001|\n",
      "|96.309998|96.910004|\n",
      "+---------+---------+\n",
      "only showing top 5 rows\n",
      "\n"
     ]
    }
   ],
   "source": [
    "df.filter( ~(df['Open'] > 100) & (df['Close'] < 100) ).select(['Open', 'Close']).show(5)"
   ]
  },
  {
   "cell_type": "code",
   "execution_count": 42,
   "metadata": {},
   "outputs": [
    {
     "data": {
      "text/plain": [
       "{'Date': datetime.datetime(2015, 5, 18, 0, 0),\n",
       " 'Open': 128.380005,\n",
       " 'High': 132.970001,\n",
       " 'Low': 128.360001,\n",
       " 'Close': 132.539993,\n",
       " 'Adj Close': 125.973259,\n",
       " 'Volume': 217297400}"
      ]
     },
     "execution_count": 42,
     "metadata": {},
     "output_type": "execute_result"
    },
    {
     "name": "stdout",
     "output_type": "stream",
     "text": [
      "23/02/18 21:58:57 WARN HeartbeatReceiver: Removing executor driver with no recent heartbeats: 7187333 ms exceeds timeout 120000 ms\n",
      "23/02/18 21:58:57 WARN SparkContext: Killing executors is not supported by current scheduler.\n"
     ]
    }
   ],
   "source": [
    "df.filter(df['Low'] == 128.360001).collect()[0].asDict()"
   ]
  }
 ],
 "metadata": {
  "kernelspec": {
   "display_name": "venv",
   "language": "python",
   "name": "python3"
  },
  "language_info": {
   "codemirror_mode": {
    "name": "ipython",
    "version": 3
   },
   "file_extension": ".py",
   "mimetype": "text/x-python",
   "name": "python",
   "nbconvert_exporter": "python",
   "pygments_lexer": "ipython3",
   "version": "3.7.3"
  },
  "orig_nbformat": 4,
  "vscode": {
   "interpreter": {
    "hash": "670cec61e4f3692aefc152a66589482a97497120e6ec7ba5bd571042f4733341"
   }
  }
 },
 "nbformat": 4,
 "nbformat_minor": 2
}
