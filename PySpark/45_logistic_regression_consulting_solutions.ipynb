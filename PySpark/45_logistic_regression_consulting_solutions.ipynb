{
 "cells": [
  {
   "cell_type": "code",
   "execution_count": 1,
   "metadata": {},
   "outputs": [],
   "source": [
    "from pyspark.sql import SparkSession"
   ]
  },
  {
   "cell_type": "code",
   "execution_count": 2,
   "metadata": {},
   "outputs": [],
   "source": [
    "spark = SparkSession.builder.appName('logregconsult').getOrCreate()"
   ]
  },
  {
   "cell_type": "code",
   "execution_count": 10,
   "metadata": {},
   "outputs": [
    {
     "name": "stdout",
     "output_type": "stream",
     "text": [
      "3150 16\n",
      "root\n",
      " |-- Call  Failure: integer (nullable = true)\n",
      " |-- Complains: integer (nullable = true)\n",
      " |-- Subscription  Length: integer (nullable = true)\n",
      " |-- Charge  Amount: integer (nullable = true)\n",
      " |-- Seconds of Use: integer (nullable = true)\n",
      " |-- Frequency of use: integer (nullable = true)\n",
      " |-- Frequency of SMS: integer (nullable = true)\n",
      " |-- Distinct Called Numbers: integer (nullable = true)\n",
      " |-- Age Group: integer (nullable = true)\n",
      " |-- Tariff Plan: integer (nullable = true)\n",
      " |-- Status: integer (nullable = true)\n",
      " |-- Age: integer (nullable = true)\n",
      " |-- Customer Value: double (nullable = true)\n",
      " |-- FN: double (nullable = true)\n",
      " |-- FP: double (nullable = true)\n",
      " |-- Churn: integer (nullable = true)\n",
      "\n"
     ]
    }
   ],
   "source": [
    "data = spark.read.csv('data/customer_churn.csv', inferSchema=True, header=True)\n",
    "print(data.count(), len(data.columns))\n",
    "data.printSchema()"
   ]
  },
  {
   "cell_type": "code",
   "execution_count": 9,
   "metadata": {},
   "outputs": [
    {
     "name": "stdout",
     "output_type": "stream",
     "text": [
      "+-----+------+------+--------+----------+---------+---------+------------+-------------+------+-------+---------+-------------+--------------------+------+--------+\n",
      "|CHURN|Gender|Status|Children|Est Income|Car Owner|      Age|LongDistance|International| Local|Dropped|Paymethod|LocalBilltype|LongDistanceBilltype| Usage|RatePlan|\n",
      "+-----+------+------+--------+----------+---------+---------+------------+-------------+------+-------+---------+-------------+--------------------+------+--------+\n",
      "|    T|     F|     S|     1.0|   38000.0|        N|24.393333|       23.56|          0.0|206.08|    0.0|       CC|       Budget|      Intnl_discount|229.64|     3.0|\n",
      "|    F|     M|     M|     2.0|   29616.0|        N|49.426667|       29.78|          0.0|  45.5|    0.0|       CH|    FreeLocal|            Standard| 75.29|     2.0|\n",
      "|    F|     M|     M|     0.0|   19732.8|        N|50.673333|       24.81|          0.0| 22.44|    0.0|       CC|    FreeLocal|            Standard| 47.25|     3.0|\n",
      "|    F|     M|     S|     2.0|     96.33|        N|56.473333|       26.13|          0.0| 32.88|    1.0|       CC|       Budget|            Standard| 59.01|     1.0|\n",
      "|    F|     F|     M|     2.0|   52004.8|        N|    25.14|        5.03|          0.0| 23.11|    0.0|       CH|       Budget|      Intnl_discount| 28.14|     1.0|\n",
      "+-----+------+------+--------+----------+---------+---------+------------+-------------+------+-------+---------+-------------+--------------------+------+--------+\n",
      "only showing top 5 rows\n",
      "\n"
     ]
    }
   ],
   "source": [
    "data.show(5)"
   ]
  },
  {
   "cell_type": "code",
   "execution_count": 8,
   "metadata": {},
   "outputs": [
    {
     "data": {
      "text/plain": [
       "['CHURN',\n",
       " 'Gender',\n",
       " 'Status',\n",
       " 'Children',\n",
       " 'Est Income',\n",
       " 'Car Owner',\n",
       " 'Age',\n",
       " 'LongDistance',\n",
       " 'International',\n",
       " 'Local',\n",
       " 'Dropped',\n",
       " 'Paymethod',\n",
       " 'LocalBilltype',\n",
       " 'LongDistanceBilltype',\n",
       " 'Usage',\n",
       " 'RatePlan']"
      ]
     },
     "execution_count": 8,
     "metadata": {},
     "output_type": "execute_result"
    }
   ],
   "source": [
    "data.columns"
   ]
  },
  {
   "cell_type": "code",
   "execution_count": 5,
   "metadata": {},
   "outputs": [],
   "source": [
    "from pyspark.ml.feature import VectorAssembler"
   ]
  },
  {
   "cell_type": "code",
   "execution_count": null,
   "metadata": {},
   "outputs": [],
   "source": [
    "assembler = VectorAssembler(inputCols=['Age','TotalPurchases',])"
   ]
  },
  {
   "cell_type": "code",
   "execution_count": null,
   "metadata": {},
   "outputs": [],
   "source": []
  }
 ],
 "metadata": {
  "kernelspec": {
   "display_name": "Python 3",
   "language": "python",
   "name": "python3"
  },
  "language_info": {
   "codemirror_mode": {
    "name": "ipython",
    "version": 3
   },
   "file_extension": ".py",
   "mimetype": "text/x-python",
   "name": "python",
   "nbconvert_exporter": "python",
   "pygments_lexer": "ipython3",
   "version": "3.7.4"
  },
  "orig_nbformat": 4
 },
 "nbformat": 4,
 "nbformat_minor": 2
}
