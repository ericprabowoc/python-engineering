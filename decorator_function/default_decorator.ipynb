{
 "cells": [
  {
   "attachments": {},
   "cell_type": "markdown",
   "metadata": {},
   "source": [
    "# Decorator"
   ]
  },
  {
   "attachments": {},
   "cell_type": "markdown",
   "metadata": {},
   "source": [
    "### 1. Timer"
   ]
  },
  {
   "cell_type": "code",
   "execution_count": 1,
   "metadata": {},
   "outputs": [],
   "source": [
    "import time\n",
    "\n",
    "def timer(func):\n",
    "    def wrapper(*args, **kwargs):\n",
    "        # start the timer\n",
    "        start_time = time.time()\n",
    "        # call the decorated function\n",
    "        result = func(*args, **kwargs)\n",
    "        # remeasure the time\n",
    "        end_time = time.time()\n",
    "        # compute the elapsed time and print it\n",
    "        execution_time = end_time - start_time\n",
    "        print(f\"Execution time: {execution_time} seconds\")\n",
    "        # return the result of the decorated function execution\n",
    "        return result\n",
    "    # return reference to the wrapper function\n",
    "    return wrapper"
   ]
  },
  {
   "cell_type": "code",
   "execution_count": 3,
   "metadata": {},
   "outputs": [
    {
     "name": "stdout",
     "output_type": "stream",
     "text": [
      "Starting the model training function...\n",
      "Model training completed!\n",
      "Execution time: 5.001730680465698 seconds\n"
     ]
    }
   ],
   "source": [
    "@timer\n",
    "def train_model():\n",
    "    print(\"Starting the model training function...\")\n",
    "    # simulate a function execution by pausing the program for 5 seconds\n",
    "    time.sleep(5)\n",
    "    print(\"Model training completed!\")\n",
    "\n",
    "train_model() "
   ]
  },
  {
   "attachments": {},
   "cell_type": "markdown",
   "metadata": {},
   "source": [
    "### 2. Debugger"
   ]
  },
  {
   "cell_type": "code",
   "execution_count": 4,
   "metadata": {},
   "outputs": [],
   "source": [
    "def debug(func):\n",
    "    def wrapper(*args, **kwargs):\n",
    "        # print the fucntion name and arguments\n",
    "        print(f\"Calling {func.__name__} with args: {args} kwargs: {kwargs}\")\n",
    "        # call the function\n",
    "        result = func(*args, **kwargs)\n",
    "        # print the results\n",
    "        print(f\"{func.__name__} returned: {result}\")\n",
    "        return result\n",
    "    return wrapper"
   ]
  },
  {
   "cell_type": "code",
   "execution_count": 5,
   "metadata": {},
   "outputs": [
    {
     "name": "stdout",
     "output_type": "stream",
     "text": [
      "Calling add_numbers with args: (7,) kwargs: {'y': 5}\n",
      "add_numbers returned: 12\n"
     ]
    },
    {
     "data": {
      "text/plain": [
       "12"
      ]
     },
     "execution_count": 5,
     "metadata": {},
     "output_type": "execute_result"
    }
   ],
   "source": [
    "@debug\n",
    "def add_numbers(x, y):\n",
    "    return x + y\n",
    "add_numbers(7, y=5,)  # Output: Calling add_numbers with args: (7) kwargs: {'y': 5} \\n add_numbers returned: 12"
   ]
  },
  {
   "attachments": {},
   "cell_type": "markdown",
   "metadata": {},
   "source": [
    "### 3. Exception Handler"
   ]
  },
  {
   "cell_type": "code",
   "execution_count": 6,
   "metadata": {},
   "outputs": [],
   "source": [
    "def exception_handler(func):\n",
    "    def wrapper(*args, **kwargs):\n",
    "        try:\n",
    "            return func(*args, **kwargs)\n",
    "        except Exception as e:\n",
    "            # Handle the exception\n",
    "            print(f\"An exception occurred: {str(e)}\")\n",
    "            # Optionally, perform additional error handling or logging\n",
    "            # Reraise the exception if needed\n",
    "    return wrapper"
   ]
  },
  {
   "cell_type": "code",
   "execution_count": 7,
   "metadata": {},
   "outputs": [
    {
     "name": "stdout",
     "output_type": "stream",
     "text": [
      "An exception occurred: division by zero\n"
     ]
    }
   ],
   "source": [
    "@exception_handler\n",
    "def divide(x, y):\n",
    "    result = x / y\n",
    "    return result\n",
    "divide(10, 0)  # Output: An exception occurred: division by zero"
   ]
  },
  {
   "attachments": {},
   "cell_type": "markdown",
   "metadata": {},
   "source": [
    "### 4. Input Validator"
   ]
  },
  {
   "cell_type": "code",
   "execution_count": 8,
   "metadata": {},
   "outputs": [],
   "source": [
    "def validate_input(*validations):\n",
    "    def decorator(func):\n",
    "        def wrapper(*args, **kwargs):\n",
    "            for i, val in enumerate(args):\n",
    "                if i < len(validations):\n",
    "                    if not validations[i](val):\n",
    "                        raise ValueError(f\"Invalid argument: {val}\")\n",
    "            for key, val in kwargs.items():\n",
    "                if key in validations[len(args):]:\n",
    "                    if not validations[len(args):][key](val):\n",
    "                        raise ValueError(f\"Invalid argument: {key}={val}\")\n",
    "            return func(*args, **kwargs)\n",
    "        return wrapper\n",
    "    return decorator"
   ]
  },
  {
   "cell_type": "code",
   "execution_count": 9,
   "metadata": {},
   "outputs": [
    {
     "name": "stdout",
     "output_type": "stream",
     "text": [
      "Hello!\n"
     ]
    },
    {
     "data": {
      "text/plain": [
       "0.2"
      ]
     },
     "execution_count": 9,
     "metadata": {},
     "output_type": "execute_result"
    }
   ],
   "source": [
    "@validate_input(lambda x: x > 0, lambda y: isinstance(y, str))\n",
    "def divide_and_print(x, message):\n",
    "    print(message)\n",
    "    return 1 / x\n",
    "\n",
    "divide_and_print(5, \"Hello!\")  # Output: Hello! 1.0"
   ]
  },
  {
   "attachments": {},
   "cell_type": "markdown",
   "metadata": {},
   "source": [
    "### 5. Retry"
   ]
  },
  {
   "cell_type": "code",
   "execution_count": 10,
   "metadata": {},
   "outputs": [],
   "source": [
    "import time\n",
    "\n",
    "def retry(max_attempts, delay=1):\n",
    "    def decorator(func):\n",
    "        def wrapper(*args, **kwargs):\n",
    "            attempts = 0\n",
    "            while attempts < max_attempts:\n",
    "                try:\n",
    "                    return func(*args, **kwargs)\n",
    "                except Exception as e:\n",
    "                    attempts += 1\n",
    "                    print(f\"Attempt {attempts} failed: {e}\")\n",
    "                    time.sleep(delay)\n",
    "            print(f\"Function failed after {max_attempts} attempts\")\n",
    "        return wrapper\n",
    "    return decorator"
   ]
  },
  {
   "cell_type": "code",
   "execution_count": 11,
   "metadata": {},
   "outputs": [
    {
     "name": "stdout",
     "output_type": "stream",
     "text": [
      "Fetching the data..\n",
      "Attempt 1 failed: Server is not responding.\n",
      "Fetching the data..\n",
      "Attempt 2 failed: Server is not responding.\n",
      "Fetching the data..\n",
      "Attempt 3 failed: Server is not responding.\n",
      "Function failed after 3 attempts\n"
     ]
    }
   ],
   "source": [
    "@retry(max_attempts=3, delay=2)\n",
    "def fetch_data(url):\n",
    "    print(\"Fetching the data..\")\n",
    "    # raise timeout error to simulate a server not responding..\n",
    "    raise TimeoutError(\"Server is not responding.\")\n",
    "fetch_data(\"https://example.com/data\")  # Retries 3 times with a 2-second delay between attempts"
   ]
  }
 ],
 "metadata": {
  "kernelspec": {
   "display_name": "github_venv",
   "language": "python",
   "name": "venv"
  },
  "language_info": {
   "codemirror_mode": {
    "name": "ipython",
    "version": 3
   },
   "file_extension": ".py",
   "mimetype": "text/x-python",
   "name": "python",
   "nbconvert_exporter": "python",
   "pygments_lexer": "ipython3",
   "version": "3.7.3"
  },
  "orig_nbformat": 4
 },
 "nbformat": 4,
 "nbformat_minor": 2
}
