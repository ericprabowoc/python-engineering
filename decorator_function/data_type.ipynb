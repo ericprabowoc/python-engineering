{
 "cells": [
  {
   "cell_type": "code",
   "execution_count": null,
   "metadata": {},
   "outputs": [],
   "source": [
    "# python: dictionary, list, set, tuple\n",
    "# numpy: float, int, bool, timedelta64[ns] and datetime64[ns]\n",
    "# pandas: \n",
    "    # 'boolean', 'string',\n",
    "    # 'Int8', 'Int16', 'Int32', 'Int64', 'UInt8', 'UInt16', 'UInt32', 'UInt64',\n",
    "    # 'interval', 'Interval', 'Interval[<numpy_dtype>]', 'Interval[datetime64[ns, <tz>]]', 'Interval[timedelta64[<freq>]]',\n",
    "    # 'Sparse', 'Sparse[int]', 'Sparse[float]',\n",
    "    # 'period[<freq>]', 'Period[<freq>]',\n",
    "    # 'category',\n",
    "    # 'datetime64[ns, <tz>]'"
   ]
  },
  {
   "cell_type": "code",
   "execution_count": 3,
   "metadata": {},
   "outputs": [
    {
     "name": "stdout",
     "output_type": "stream",
     "text": [
      "<class 'numpy.bool_'>\n",
      "<class 'numpy.int64'>\n",
      "<class 'numpy.int32'>\n",
      "<class 'numpy.int64'>\n",
      "<class 'numpy.int8'>\n",
      "<class 'numpy.int16'>\n",
      "<class 'numpy.int32'>\n",
      "<class 'numpy.int64'>\n",
      "<class 'numpy.uint8'>\n",
      "<class 'numpy.uint16'>\n",
      "<class 'numpy.uint32'>\n",
      "<class 'numpy.uint64'>\n",
      "<class 'numpy.float64'>\n",
      "<class 'numpy.float16'>\n",
      "<class 'numpy.float32'>\n",
      "<class 'numpy.float64'>\n",
      "<class 'numpy.complex128'>\n",
      "<class 'numpy.complex64'>\n",
      "<class 'numpy.complex128'>\n",
      "<class 'numpy.datetime64'>\n",
      "<class 'numpy.timedelta64'>\n"
     ]
    }
   ],
   "source": [
    "import numpy as np\n",
    "\n",
    "print(type(np.bool_()))\n",
    "print(type(np.int_()))\n",
    "print(type(np.intc()))\n",
    "print(type(np.intp()))\n",
    "print(type(np.int8()))\n",
    "print(type(np.int16()))\n",
    "print(type(np.int32()))\n",
    "print(type(np.int64()))\n",
    "print(type(np.uint8()))\n",
    "print(type(np.uint16()))\n",
    "print(type(np.uint32()))\n",
    "print(type(np.uint64()))\n",
    "print(type(np.float_()))\n",
    "print(type(np.float16()))\n",
    "print(type(np.float32()))\n",
    "print(type(np.float64()))\n",
    "print(type(np.complex_()))\n",
    "print(type(np.complex64()))\n",
    "print(type(np.complex128()))\n",
    "print(type(np.datetime64()))\n",
    "print(type(np.timedelta64()))"
   ]
  },
  {
   "cell_type": "code",
   "execution_count": 5,
   "metadata": {},
   "outputs": [
    {
     "name": "stdout",
     "output_type": "stream",
     "text": [
      "Pandas dtypes:  ['ArrowDtype', 'BooleanDtype', 'CategoricalDtype', 'DatetimeTZDtype', 'Float32Dtype', 'Float64Dtype', 'Int16Dtype', 'Int32Dtype', 'Int64Dtype', 'Int8Dtype', 'IntervalDtype', 'PeriodDtype', 'SparseDtype', 'StringDtype', 'UInt16Dtype', 'UInt32Dtype', 'UInt64Dtype', 'UInt8Dtype']\n"
     ]
    }
   ],
   "source": [
    "import pandas as pd\n",
    "\n",
    "dtypes = list()\n",
    "\n",
    "for obj in dir(pd):\n",
    "    if 'Dtype' in obj:\n",
    "        dtypes.append(obj)\n",
    "print(\"Pandas dtypes: \", dtypes)"
   ]
  },
  {
   "cell_type": "code",
   "execution_count": 3,
   "metadata": {},
   "outputs": [],
   "source": [
    "from pyspark.sql import SparkSession\n",
    "from pyspark.sql import types as T\n",
    "from pyspark.sql import functions as F\n",
    "\n",
    "spark = SparkSession \\\n",
    "    .builder \\\n",
    "    .appName(\"Python Spark SQL basic example\") \\\n",
    "    .config(\"spark.some.config.option\", \"some-value\") \\\n",
    "    .getOrCreate()"
   ]
  },
  {
   "cell_type": "code",
   "execution_count": null,
   "metadata": {},
   "outputs": [
    {
     "name": "stdout",
     "output_type": "stream",
     "text": [
      "['ArrayType', 'AtomicType', 'BinaryType', 'BooleanType', 'ByteType', 'DataType', 'DataTypeSingleton', 'DateType', 'DayTimeIntervalType', 'DayTimeIntervalTypeConverter', 'DecimalType', 'DoubleType', 'FloatType', 'FractionalType', 'IntegerType', 'IntegralType', 'LongType', 'MapType', 'NullType', 'NumericType', 'ShortType', 'StringType', 'StructType', 'TimestampNTZType', 'TimestampType', 'Type', 'TypeVar', 'UserDefinedType']\n"
     ]
    }
   ],
   "source": [
    "pyspark_dtypes = list()\n",
    "\n",
    "for obj in dir(T):\n",
    "    if 'Type' in obj:\n",
    "        pyspark_dtypes.append(obj)\n",
    "\n",
    "print(list(pyspark_dtypes))"
   ]
  }
 ],
 "metadata": {
  "kernelspec": {
   "display_name": "pandas2",
   "language": "python",
   "name": "pandas2"
  },
  "language_info": {
   "codemirror_mode": {
    "name": "ipython",
    "version": 3
   },
   "file_extension": ".py",
   "mimetype": "text/x-python",
   "name": "python",
   "nbconvert_exporter": "python",
   "pygments_lexer": "ipython3",
   "version": "3.10.5"
  },
  "orig_nbformat": 4,
  "vscode": {
   "interpreter": {
    "hash": "670cec61e4f3692aefc152a66589482a97497120e6ec7ba5bd571042f4733341"
   }
  }
 },
 "nbformat": 4,
 "nbformat_minor": 2
}
