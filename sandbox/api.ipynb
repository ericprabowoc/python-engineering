{
 "cells": [
  {
   "cell_type": "code",
   "execution_count": 1,
   "metadata": {},
   "outputs": [],
   "source": [
    "import pandas as pd\n",
    "\n",
    "data = [{\"name\": \"Contract1\", \"start\": 0, \"duration\": 5, \"price\": 10},{\"name\": \"Contract2\", \"start\": 3, \"duration\": 7, \"price\": 14},{\"name\": \"Contract3\", \"start\": 5, \"duration\": 9, \"price\": 8},{\"name\": \"Contract4\", \"start\": 5, \"duration\": 9, \"price\": 7}]"
   ]
  },
  {
   "cell_type": "code",
   "execution_count": 12,
   "metadata": {},
   "outputs": [
    {
     "name": "stdout",
     "output_type": "stream",
     "text": [
      "        name  start  duration  price\n",
      "0  Contract1      0         5     10\n",
      "1  Contract2      3         7     14\n",
      "2  Contract3      5         9      8\n",
      "3  Contract4      5         9      7\n"
     ]
    }
   ],
   "source": [
    "dfs = list()\n",
    "\n",
    "for d in data:\n",
    "    dfs.append(pd.DataFrame(pd.json_normalize(d)))\n",
    "\n",
    "dfs = pd.concat(dfs).reset_index(drop=True)\n",
    "print(dfs)"
   ]
  },
  {
   "cell_type": "code",
   "execution_count": 18,
   "metadata": {},
   "outputs": [
    {
     "name": "stdout",
     "output_type": "stream",
     "text": [
      "[0, 3, 5, 5]\n",
      "[5, 10, 14, 14]\n",
      "[10, 14, 7, 8]\n",
      "4\n",
      "[[0, 3], 18]\n",
      "['Contract1', 'Contract3']\n",
      "18\n"
     ]
    }
   ],
   "source": [
    "# generate end time\n",
    "dfs['end'] = dfs['start'] + dfs['duration']\n",
    "dfs = dfs.sort_values(['start', 'end', 'price']).reset_index(drop=True)\n",
    "\n",
    "# generate list for calculations\n",
    "start_times = dfs.start.tolist()\n",
    "print(start_times)\n",
    "finish_times = dfs.end.tolist()\n",
    "print(finish_times)\n",
    "prices = dfs.price.tolist()\n",
    "print(prices)\n",
    "count = len(prices)\n",
    "print(count)\n",
    "\n",
    "def find_all_combinations(comb, val, s_idx):\n",
    "    while s_idx < count:\n",
    "        comb.append(s_idx)\n",
    "        val += prices[s_idx]\n",
    "\n",
    "        try:\n",
    "            s_idx = next(i for i,v in enumerate(start_times) if v >= finish_times[s_idx])\n",
    "        except StopIteration as e:\n",
    "            break\n",
    "\n",
    "    return comb, val\n",
    "\n",
    "def find_all_values():\n",
    "    indexes = list()\n",
    "    values = list()\n",
    "    n = len(prices)\n",
    "\n",
    "    for finish_idx in range(0, count):\n",
    "        try:\n",
    "            smallest_start = next(i for i,v in enumerate(start_times) if v >= finish_times[finish_idx])\n",
    "\n",
    "            for start_idx in range(smallest_start, count):\n",
    "                value = 0\n",
    "                # print(s[start_idx], f[start_idx])\n",
    "\n",
    "                combination = list()\n",
    "                value = 0\n",
    "\n",
    "                combination.append(finish_idx)\n",
    "                value += prices[finish_idx]\n",
    "\n",
    "                combination, value = find_all_combinations(combination, value, start_idx)\n",
    "\n",
    "                indexes.append(combination)\n",
    "                values.append(value)\n",
    "        except StopIteration as e:\n",
    "            break\n",
    "\n",
    "    result = pd.DataFrame(data={'combination': indexes, 'total_income': values})\n",
    "    return result\n",
    "\n",
    "# find all possible income\n",
    "res = find_all_values()\n",
    "\n",
    "# sort values by total income and select highest\n",
    "res = res.sort_values(['total_income'], ascending=False).reset_index(drop=True).loc[0][['combination', 'total_income']].tolist()\n",
    "print(res)\n",
    "\n",
    "# get combination of names to list\n",
    "print(dfs.loc[res[0]]['name'].tolist())\n",
    "print(res[1])"
   ]
  },
  {
   "cell_type": "code",
   "execution_count": null,
   "metadata": {},
   "outputs": [
    {
     "name": "stdout",
     "output_type": "stream",
     "text": [
      "10\n"
     ]
    }
   ],
   "source": [
    "# start_times = [0,  0,  0,  3,  5,  5,  6,  14, 15, 16]\n",
    "# finish_times = [5,  5,  6,  10, 15, 16, 14, 16, 20, 19]\n",
    "# prices = [10, 12, 15, 14, 8,  7,  10, 5,  10, 4]\n",
    "# count = len(prices)\n",
    "# print(count)"
   ]
  },
  {
   "cell_type": "code",
   "execution_count": 5,
   "metadata": {},
   "outputs": [],
   "source": [
    "def find_all_combinations(comb, val, s_idx):\n",
    "    while s_idx < count:\n",
    "        comb.append(s_idx)\n",
    "        val += prices[s_idx]\n",
    "\n",
    "        try:\n",
    "            s_idx = next(i for i,v in enumerate(start_times) if v >= finish_times[s_idx])\n",
    "        except StopIteration as e:\n",
    "            break\n",
    "\n",
    "    return comb, val\n",
    "\n",
    "def find_all_values():\n",
    "    indexes = list()\n",
    "    values = list()\n",
    "    n = len(prices)\n",
    "\n",
    "    for finish_idx in range(0, count):\n",
    "        try:\n",
    "            smallest_start = next(i for i,v in enumerate(start_times) if v >= finish_times[finish_idx])\n",
    "\n",
    "            for start_idx in range(smallest_start, count):\n",
    "                value = 0\n",
    "                # print(s[start_idx], f[start_idx])\n",
    "\n",
    "                combination = list()\n",
    "                value = 0\n",
    "\n",
    "                combination.append(finish_idx)\n",
    "                value += prices[finish_idx]\n",
    "\n",
    "                combination, value = find_all_combinations(combination, value, start_idx)\n",
    "\n",
    "                indexes.append(combination)\n",
    "                values.append(value)\n",
    "        except StopIteration as e:\n",
    "            break\n",
    "\n",
    "    result = pd.DataFrame(data={'combination': indexes, 'total_income': values})\n",
    "    return result\n"
   ]
  },
  {
   "cell_type": "code",
   "execution_count": 15,
   "metadata": {},
   "outputs": [
    {
     "data": {
      "text/plain": [
       "[[0, 3], 18]"
      ]
     },
     "execution_count": 15,
     "metadata": {},
     "output_type": "execute_result"
    }
   ],
   "source": [
    "# find all possible income\n",
    "res = find_all_values()\n",
    "\n",
    "# sort values by total income and select highest\n",
    "res = res.sort_values(['total_income'], ascending=False).reset_index(drop=True).loc[0][['combination', 'total_income']].tolist()\n",
    "\n",
    "# get combination of names to list\n",
    "dfs.loc[res[0]]['name'].tolist()"
   ]
  }
 ],
 "metadata": {
  "kernelspec": {
   "display_name": "venv",
   "language": "python",
   "name": "python3"
  },
  "language_info": {
   "codemirror_mode": {
    "name": "ipython",
    "version": 3
   },
   "file_extension": ".py",
   "mimetype": "text/x-python",
   "name": "python",
   "nbconvert_exporter": "python",
   "pygments_lexer": "ipython3",
   "version": "3.7.3"
  },
  "orig_nbformat": 4,
  "vscode": {
   "interpreter": {
    "hash": "670cec61e4f3692aefc152a66589482a97497120e6ec7ba5bd571042f4733341"
   }
  }
 },
 "nbformat": 4,
 "nbformat_minor": 2
}
