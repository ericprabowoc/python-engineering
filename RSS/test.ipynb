{
 "cells": [
  {
   "cell_type": "code",
   "execution_count": 1,
   "metadata": {},
   "outputs": [
    {
     "name": "stdout",
     "output_type": "stream",
     "text": [
      "70000\n",
      "--- 23.378255128860474 seconds ---\n"
     ]
    }
   ],
   "source": [
    "# %%timeit\n",
    "import time\n",
    "\n",
    "start_time = time.time()\n",
    "\n",
    "A = [0,1,0,2,0,3,4]\n",
    "A = A * 10000\n",
    "print(len(A))\n",
    "\n",
    "for i in range(0,len(A)):\n",
    "    if A[i] == 0:\n",
    "        A.append(A[i])\n",
    "        A.remove(A[i])\n",
    "# print(A)\n",
    "\n",
    "print(\"--- %s seconds ---\" % (time.time() - start_time))"
   ]
  },
  {
   "cell_type": "code",
   "execution_count": 3,
   "metadata": {},
   "outputs": [
    {
     "name": "stdout",
     "output_type": "stream",
     "text": [
      "70000\n",
      "--- 0.6732826232910156 seconds ---\n"
     ]
    }
   ],
   "source": [
    "# %%timeit\n",
    "import time\n",
    "\n",
    "start_time = time.time()\n",
    "\n",
    "A = [0,1,0,2,0,3,4]\n",
    "A = A * 10000\n",
    "print(len(A))\n",
    "\n",
    "for i in range(0,len(A)):\n",
    "    if A[i] == 0:\n",
    "        A.append(A.pop(i))\n",
    "# print(A)\n",
    "\n",
    "print(\"--- %s seconds ---\" % (time.time() - start_time))"
   ]
  },
  {
   "cell_type": "code",
   "execution_count": 1,
   "metadata": {},
   "outputs": [
    {
     "name": "stdout",
     "output_type": "stream",
     "text": [
      "7000000\n",
      "7000000\n",
      "--- 2.956850051879883 seconds ---\n"
     ]
    }
   ],
   "source": [
    "def sort(array):\n",
    "    \"\"\"Sort the array by using quicksort.\"\"\"\n",
    "\n",
    "    less = []\n",
    "    equal = []\n",
    "    greater = []\n",
    "\n",
    "    if len(array) > 1:\n",
    "        pivot = array[0]\n",
    "        for x in array:\n",
    "            if x < pivot:\n",
    "                less.append(x)\n",
    "            elif x == pivot:\n",
    "                equal.append(x)\n",
    "            elif x > pivot:\n",
    "                greater.append(x)\n",
    "        # Don't forget to return something!\n",
    "        return sort(less)+equal+sort(greater)  # Just use the + operator to join lists\n",
    "    # Note that you want equal ^^^^^ not pivot\n",
    "    else:  # You need to handle the part at the end of the recursion - when you only have one element in your array, just return the array.\n",
    "        return array\n",
    "\n",
    "import time\n",
    "\n",
    "start_time = time.time()\n",
    "\n",
    "A = [0,1,0,2,0,3,4]\n",
    "A = A * 1000000\n",
    "print(len(A))\n",
    "\n",
    "A = sort(A)\n",
    "print(len(A))\n",
    "\n",
    "print(\"--- %s seconds ---\" % (time.time() - start_time))"
   ]
  }
 ],
 "metadata": {
  "kernelspec": {
   "display_name": "github_venv",
   "language": "python",
   "name": "venv"
  },
  "language_info": {
   "codemirror_mode": {
    "name": "ipython",
    "version": 3
   },
   "file_extension": ".py",
   "mimetype": "text/x-python",
   "name": "python",
   "nbconvert_exporter": "python",
   "pygments_lexer": "ipython3",
   "version": "3.7.3"
  },
  "orig_nbformat": 4,
  "vscode": {
   "interpreter": {
    "hash": "670cec61e4f3692aefc152a66589482a97497120e6ec7ba5bd571042f4733341"
   }
  }
 },
 "nbformat": 4,
 "nbformat_minor": 2
}
